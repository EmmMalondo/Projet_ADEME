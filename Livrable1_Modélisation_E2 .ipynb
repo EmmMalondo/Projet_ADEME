{
 "cells": [
  {
   "cell_type": "markdown",
   "id": "720416c0",
   "metadata": {},
   "source": [
    "# Livrable 1 : Modélisation "
   ]
  },
  {
   "cell_type": "markdown",
   "id": "35e86d98",
   "metadata": {},
   "source": [
    "Équipe 2 : MALONDO Emmanuel, KURRIMBOCCUS Anya, FIET Jordan, PILLON Antoine, LECHATREUX Pierre"
   ]
  },
  {
   "cell_type": "markdown",
   "id": "76a8f51f",
   "metadata": {},
   "source": [
    "## Introduction \n",
    "\n",
    " \n",
    "\n",
    "L’ADEME (Agence de l’Environnement et de la Maîtrise de L’Energie) a lancé un appel à manifestation d’intérêt pour promouvoir la réalisation de démonstrateurs et d’expérimentation de nouvelles solutions de mobilité pour les personnes et les marchandises adaptées à différents types de territoires. Notre équipe a été mise en place par le CesiCDP pour répondre à l’appel de l’ADEME. \n",
    "\n",
    "CesiCDP est déjà bien implantée dans le domaine. Aidé de nombreux partenaires, elle a réalisé plusieurs études sur le thème de la Mobilité Multimodale Intelligente. Les nouvelles technologies de transport, plus économiques et moins polluantes ne sont pas sans poser de nouveaux défis notamment d’un point de vue de l’optimisation de la gestion des ressources. Mais ces problèmes de logistique du transport présentent un enjeu majeur pour l’avenir : ses applications sont nombreuses (distribution du courrier, livraison de produits, traitement du réseau routier, ramassage des ordures) et leur impact sur l’environnement peut être véritablement significatif. \n",
    "\n",
    "La mise en place de notre équipe suit l’enjeu visé par CesiCDP qui est d’obtenir de nouveaux marchés avec des financements très intéressants pour continuer à développer son activité. \n",
    "\n",
    "CesiCDP a décidé d’orienter son étude sur la gestion de tournées de livraison.\n",
    "\n",
    "### Objectifs de ce livrable  \n",
    "\n",
    "- Reformuler le problème de manière formelle \n",
    "\n",
    "- Modéliser le problème et le formuler mathématiquement\n",
    "\n",
    "- Étudier les propriétés théoriques (complexité) \n",
    "\n",
    "- Produire un pseudo code\n",
    "\n",
    " \n",
    "\n",
    "### Objectif de la mission \n",
    "\n",
    " \n",
    "\n",
    "Sur un réseau routier, nous devons calculer une tournée permettant de relier entre elles un sous-ensemble de villes, puis de revenir à son point de départ, de façon à minimiser la durée de la tournée. Les calculs que nous ferons devront prendre en compte la charge du trafique routier qui impactera le temps de la tournée.  \n",
    "\n",
    "Pour finir, l’idée ici, est de proposer une méthode issue de la RO (Recherche Opérationnelle) pour générer une tournée de livraison correspondant à ce problème. \n",
    "\n",
    "\n",
    "## Données \n",
    "\n",
    " \n",
    "\n",
    "Pour répondre à l’appel de L’ADEME, nous avons identifié certaines données qui vont nous aider : \n",
    "\n",
    " \n",
    "\n",
    "- Nombre n de points. Les points sont ici les points de livraisons que nous avons à parcourir. Pour ce projet, nous avons décidé de placer un point de livraison par ville. Ces villes sont récupérables grâce à des cartographies existantes. \n",
    "\n",
    "- Les arêtes entre chaque point. Ceci correspond aux trajets permettant de se rendre d’une ville de départ à une ville d’arrivée. \n",
    "\n",
    "- Charge des arêtes. La charge des arêtes, correspond dans notre cas, au temps de trajet entre deux villes. \n",
    "\n",
    "- Nombre k de camions déployés. Cela correspond au nombre de camions en circulation permettant de délivrer les objets à déposer. \n",
    "\n",
    "- Durée d de la tournée. Cela correspond au temps pris par k camions pour que tous les points de livraison soient parcourus puis pour que les camions reviennent au point de départ. Cela correspond aussi à la somme des charges des arrêtes parcourues pendant la tournée. "
   ]
  },
  {
   "cell_type": "markdown",
   "id": "dfd34d49",
   "metadata": {},
   "source": [
    "# Modélisation du problème\n",
    "\n"
   ]
  },
  {
   "attachments": {},
   "cell_type": "markdown",
   "id": "68e6bc51",
   "metadata": {},
   "source": [
    "L’objectif de notre mission et les données à notre disposition nous permettent de délimiter le problème qui devra être résolu à l’aide de l’algorithme que l’on concevra. \n",
    " \n",
    "\n",
    "### Problème de décision :  \n",
    "\n",
    " \n",
    "\n",
    "Soit <b>t</b>, un temps établi arbitrairement. \n",
    "Soit <b>C</b>, un chemin déterminé par notre algorithme. \n",
    "\n",
    "Existe-t-il un chemin C passant par chaque point une seule fois, puis revenant au point de départ, pour lequel la durée d est inférieure à t ? \n",
    "\n",
    " \n",
    "\n",
    "Notre algorithme devra être capable de déterminer un chemin C pour lequel la réponse au problème de décision est ‘oui’.  \n",
    " \n",
    "Mais, il devra aussi être capable de déterminer le chemin C ayant la durée d la plus petite possible. Cela nous permet donc d’énoncer le problème d’optimisation ci-dessous. \n",
    "\n",
    "### Problème d’optimisation :  \n",
    "\n",
    "\t\t\t\t\t\t\t\t\t \n",
    "\n",
    "Quelle est la plus petite valeur de d pour laquelle la réponse au problème de décision émis est oui ? "
   ]
  }
 ],
 "metadata": {
  "kernelspec": {
   "display_name": "Python 3 (ipykernel)",
   "language": "python",
   "name": "python3"
  },
  "language_info": {
   "codemirror_mode": {
    "name": "ipython",
    "version": 3
   },
   "file_extension": ".py",
   "mimetype": "text/x-python",
   "name": "python",
   "nbconvert_exporter": "python",
   "pygments_lexer": "ipython3",
   "version": "3.10.9"
  }
 },
 "nbformat": 4,
 "nbformat_minor": 5
}
